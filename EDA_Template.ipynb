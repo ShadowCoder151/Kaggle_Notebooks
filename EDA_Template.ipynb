{
 "cells": [
  {
   "cell_type": "code",
   "execution_count": 1,
   "id": "98fd419b",
   "metadata": {
    "_cell_guid": "b1076dfc-b9ad-4769-8c92-a6c4dae69d19",
    "_uuid": "8f2839f25d086af736a60e9eeb907d3b93b6e0e5",
    "execution": {
     "iopub.execute_input": "2024-11-02T16:00:49.156974Z",
     "iopub.status.busy": "2024-11-02T16:00:49.156520Z",
     "iopub.status.idle": "2024-11-02T16:00:50.271944Z",
     "shell.execute_reply": "2024-11-02T16:00:50.270441Z"
    },
    "papermill": {
     "duration": 1.126428,
     "end_time": "2024-11-02T16:00:50.275600",
     "exception": false,
     "start_time": "2024-11-02T16:00:49.149172",
     "status": "completed"
    },
    "tags": []
   },
   "outputs": [
    {
     "name": "stdout",
     "output_type": "stream",
     "text": [
      "/kaggle/input/playground-series-s4e11/sample_submission.csv\n",
      "/kaggle/input/playground-series-s4e11/train.csv\n",
      "/kaggle/input/playground-series-s4e11/test.csv\n"
     ]
    }
   ],
   "source": [
    "# This Python 3 environment comes with many helpful analytics libraries installed\n",
    "# It is defined by the kaggle/python Docker image: https://github.com/kaggle/docker-python\n",
    "# For example, here's several helpful packages to load\n",
    "\n",
    "import numpy as np # linear algebra\n",
    "import pandas as pd # data processing, CSV file I/O (e.g. pd.read_csv)\n",
    "\n",
    "# Input data files are available in the read-only \"../input/\" directory\n",
    "# For example, running this (by clicking run or pressing Shift+Enter) will list all files under the input directory\n",
    "\n",
    "import os\n",
    "for dirname, _, filenames in os.walk('/kaggle/input'):\n",
    "    for filename in filenames:\n",
    "        print(os.path.join(dirname, filename))\n",
    "\n",
    "# You can write up to 20GB to the current directory (/kaggle/working/) that gets preserved as output when you create a version using \"Save & Run All\" \n",
    "# You can also write temporary files to /kaggle/temp/, but they won't be saved outside of the current session"
   ]
  },
  {
   "cell_type": "code",
   "execution_count": 2,
   "id": "a1efd131",
   "metadata": {
    "execution": {
     "iopub.execute_input": "2024-11-02T16:00:50.288312Z",
     "iopub.status.busy": "2024-11-02T16:00:50.287633Z",
     "iopub.status.idle": "2024-11-02T16:00:51.425120Z",
     "shell.execute_reply": "2024-11-02T16:00:51.423945Z"
    },
    "papermill": {
     "duration": 1.146851,
     "end_time": "2024-11-02T16:00:51.427992",
     "exception": false,
     "start_time": "2024-11-02T16:00:50.281141",
     "status": "completed"
    },
    "tags": []
   },
   "outputs": [],
   "source": [
    "train = pd.read_csv('/kaggle/input/playground-series-s4e11/train.csv')\n",
    "test = pd.read_csv('/kaggle/input/playground-series-s4e11/test.csv')"
   ]
  },
  {
   "cell_type": "code",
   "execution_count": 3,
   "id": "b96579e6",
   "metadata": {
    "execution": {
     "iopub.execute_input": "2024-11-02T16:00:51.439770Z",
     "iopub.status.busy": "2024-11-02T16:00:51.439304Z",
     "iopub.status.idle": "2024-11-02T16:00:54.380190Z",
     "shell.execute_reply": "2024-11-02T16:00:54.378918Z"
    },
    "papermill": {
     "duration": 2.950089,
     "end_time": "2024-11-02T16:00:54.383075",
     "exception": false,
     "start_time": "2024-11-02T16:00:51.432986",
     "status": "completed"
    },
    "tags": []
   },
   "outputs": [],
   "source": [
    "import matplotlib.pyplot as plt\n",
    "import seaborn as sns\n",
    "import plotly.express as px\n",
    "from scipy import stats"
   ]
  },
  {
   "cell_type": "markdown",
   "id": "45185547",
   "metadata": {
    "papermill": {
     "duration": 0.0046,
     "end_time": "2024-11-02T16:00:54.392961",
     "exception": false,
     "start_time": "2024-11-02T16:00:54.388361",
     "status": "completed"
    },
    "tags": []
   },
   "source": [
    "## Data import and initial observations"
   ]
  },
  {
   "cell_type": "code",
   "execution_count": 4,
   "id": "688ff3a0",
   "metadata": {
    "execution": {
     "iopub.execute_input": "2024-11-02T16:00:54.404984Z",
     "iopub.status.busy": "2024-11-02T16:00:54.404267Z",
     "iopub.status.idle": "2024-11-02T16:00:54.445477Z",
     "shell.execute_reply": "2024-11-02T16:00:54.443999Z"
    },
    "papermill": {
     "duration": 0.050389,
     "end_time": "2024-11-02T16:00:54.448302",
     "exception": false,
     "start_time": "2024-11-02T16:00:54.397913",
     "status": "completed"
    },
    "tags": []
   },
   "outputs": [
    {
     "data": {
      "text/html": [
       "<div>\n",
       "<style scoped>\n",
       "    .dataframe tbody tr th:only-of-type {\n",
       "        vertical-align: middle;\n",
       "    }\n",
       "\n",
       "    .dataframe tbody tr th {\n",
       "        vertical-align: top;\n",
       "    }\n",
       "\n",
       "    .dataframe thead th {\n",
       "        text-align: right;\n",
       "    }\n",
       "</style>\n",
       "<table border=\"1\" class=\"dataframe\">\n",
       "  <thead>\n",
       "    <tr style=\"text-align: right;\">\n",
       "      <th></th>\n",
       "      <th>id</th>\n",
       "      <th>Name</th>\n",
       "      <th>Gender</th>\n",
       "      <th>Age</th>\n",
       "      <th>City</th>\n",
       "      <th>Working Professional or Student</th>\n",
       "      <th>Profession</th>\n",
       "      <th>Academic Pressure</th>\n",
       "      <th>Work Pressure</th>\n",
       "      <th>CGPA</th>\n",
       "      <th>Study Satisfaction</th>\n",
       "      <th>Job Satisfaction</th>\n",
       "      <th>Sleep Duration</th>\n",
       "      <th>Dietary Habits</th>\n",
       "      <th>Degree</th>\n",
       "      <th>Have you ever had suicidal thoughts ?</th>\n",
       "      <th>Work/Study Hours</th>\n",
       "      <th>Financial Stress</th>\n",
       "      <th>Family History of Mental Illness</th>\n",
       "      <th>Depression</th>\n",
       "    </tr>\n",
       "  </thead>\n",
       "  <tbody>\n",
       "    <tr>\n",
       "      <th>0</th>\n",
       "      <td>0</td>\n",
       "      <td>Aaradhya</td>\n",
       "      <td>Female</td>\n",
       "      <td>49.0</td>\n",
       "      <td>Ludhiana</td>\n",
       "      <td>Working Professional</td>\n",
       "      <td>Chef</td>\n",
       "      <td>NaN</td>\n",
       "      <td>5.0</td>\n",
       "      <td>NaN</td>\n",
       "      <td>NaN</td>\n",
       "      <td>2.0</td>\n",
       "      <td>More than 8 hours</td>\n",
       "      <td>Healthy</td>\n",
       "      <td>BHM</td>\n",
       "      <td>No</td>\n",
       "      <td>1.0</td>\n",
       "      <td>2.0</td>\n",
       "      <td>No</td>\n",
       "      <td>0</td>\n",
       "    </tr>\n",
       "    <tr>\n",
       "      <th>1</th>\n",
       "      <td>1</td>\n",
       "      <td>Vivan</td>\n",
       "      <td>Male</td>\n",
       "      <td>26.0</td>\n",
       "      <td>Varanasi</td>\n",
       "      <td>Working Professional</td>\n",
       "      <td>Teacher</td>\n",
       "      <td>NaN</td>\n",
       "      <td>4.0</td>\n",
       "      <td>NaN</td>\n",
       "      <td>NaN</td>\n",
       "      <td>3.0</td>\n",
       "      <td>Less than 5 hours</td>\n",
       "      <td>Unhealthy</td>\n",
       "      <td>LLB</td>\n",
       "      <td>Yes</td>\n",
       "      <td>7.0</td>\n",
       "      <td>3.0</td>\n",
       "      <td>No</td>\n",
       "      <td>1</td>\n",
       "    </tr>\n",
       "    <tr>\n",
       "      <th>2</th>\n",
       "      <td>2</td>\n",
       "      <td>Yuvraj</td>\n",
       "      <td>Male</td>\n",
       "      <td>33.0</td>\n",
       "      <td>Visakhapatnam</td>\n",
       "      <td>Student</td>\n",
       "      <td>NaN</td>\n",
       "      <td>5.0</td>\n",
       "      <td>NaN</td>\n",
       "      <td>8.97</td>\n",
       "      <td>2.0</td>\n",
       "      <td>NaN</td>\n",
       "      <td>5-6 hours</td>\n",
       "      <td>Healthy</td>\n",
       "      <td>B.Pharm</td>\n",
       "      <td>Yes</td>\n",
       "      <td>3.0</td>\n",
       "      <td>1.0</td>\n",
       "      <td>No</td>\n",
       "      <td>1</td>\n",
       "    </tr>\n",
       "    <tr>\n",
       "      <th>3</th>\n",
       "      <td>3</td>\n",
       "      <td>Yuvraj</td>\n",
       "      <td>Male</td>\n",
       "      <td>22.0</td>\n",
       "      <td>Mumbai</td>\n",
       "      <td>Working Professional</td>\n",
       "      <td>Teacher</td>\n",
       "      <td>NaN</td>\n",
       "      <td>5.0</td>\n",
       "      <td>NaN</td>\n",
       "      <td>NaN</td>\n",
       "      <td>1.0</td>\n",
       "      <td>Less than 5 hours</td>\n",
       "      <td>Moderate</td>\n",
       "      <td>BBA</td>\n",
       "      <td>Yes</td>\n",
       "      <td>10.0</td>\n",
       "      <td>1.0</td>\n",
       "      <td>Yes</td>\n",
       "      <td>1</td>\n",
       "    </tr>\n",
       "    <tr>\n",
       "      <th>4</th>\n",
       "      <td>4</td>\n",
       "      <td>Rhea</td>\n",
       "      <td>Female</td>\n",
       "      <td>30.0</td>\n",
       "      <td>Kanpur</td>\n",
       "      <td>Working Professional</td>\n",
       "      <td>Business Analyst</td>\n",
       "      <td>NaN</td>\n",
       "      <td>1.0</td>\n",
       "      <td>NaN</td>\n",
       "      <td>NaN</td>\n",
       "      <td>1.0</td>\n",
       "      <td>5-6 hours</td>\n",
       "      <td>Unhealthy</td>\n",
       "      <td>BBA</td>\n",
       "      <td>Yes</td>\n",
       "      <td>9.0</td>\n",
       "      <td>4.0</td>\n",
       "      <td>Yes</td>\n",
       "      <td>0</td>\n",
       "    </tr>\n",
       "  </tbody>\n",
       "</table>\n",
       "</div>"
      ],
      "text/plain": [
       "   id      Name  Gender   Age           City Working Professional or Student  \\\n",
       "0   0  Aaradhya  Female  49.0       Ludhiana            Working Professional   \n",
       "1   1     Vivan    Male  26.0       Varanasi            Working Professional   \n",
       "2   2    Yuvraj    Male  33.0  Visakhapatnam                         Student   \n",
       "3   3    Yuvraj    Male  22.0         Mumbai            Working Professional   \n",
       "4   4      Rhea  Female  30.0         Kanpur            Working Professional   \n",
       "\n",
       "         Profession  Academic Pressure  Work Pressure  CGPA  \\\n",
       "0              Chef                NaN            5.0   NaN   \n",
       "1           Teacher                NaN            4.0   NaN   \n",
       "2               NaN                5.0            NaN  8.97   \n",
       "3           Teacher                NaN            5.0   NaN   \n",
       "4  Business Analyst                NaN            1.0   NaN   \n",
       "\n",
       "   Study Satisfaction  Job Satisfaction     Sleep Duration Dietary Habits  \\\n",
       "0                 NaN               2.0  More than 8 hours        Healthy   \n",
       "1                 NaN               3.0  Less than 5 hours      Unhealthy   \n",
       "2                 2.0               NaN          5-6 hours        Healthy   \n",
       "3                 NaN               1.0  Less than 5 hours       Moderate   \n",
       "4                 NaN               1.0          5-6 hours      Unhealthy   \n",
       "\n",
       "    Degree Have you ever had suicidal thoughts ?  Work/Study Hours  \\\n",
       "0      BHM                                    No               1.0   \n",
       "1      LLB                                   Yes               7.0   \n",
       "2  B.Pharm                                   Yes               3.0   \n",
       "3      BBA                                   Yes              10.0   \n",
       "4      BBA                                   Yes               9.0   \n",
       "\n",
       "   Financial Stress Family History of Mental Illness  Depression  \n",
       "0               2.0                               No           0  \n",
       "1               3.0                               No           1  \n",
       "2               1.0                               No           1  \n",
       "3               1.0                              Yes           1  \n",
       "4               4.0                              Yes           0  "
      ]
     },
     "execution_count": 4,
     "metadata": {},
     "output_type": "execute_result"
    }
   ],
   "source": [
    "# To see how the data looks from an outer galnce\n",
    "train.head()"
   ]
  },
  {
   "cell_type": "code",
   "execution_count": 5,
   "id": "50bc2e0c",
   "metadata": {
    "execution": {
     "iopub.execute_input": "2024-11-02T16:00:54.461339Z",
     "iopub.status.busy": "2024-11-02T16:00:54.460876Z",
     "iopub.status.idle": "2024-11-02T16:00:54.643772Z",
     "shell.execute_reply": "2024-11-02T16:00:54.642398Z"
    },
    "papermill": {
     "duration": 0.192804,
     "end_time": "2024-11-02T16:00:54.646612",
     "exception": false,
     "start_time": "2024-11-02T16:00:54.453808",
     "status": "completed"
    },
    "tags": []
   },
   "outputs": [
    {
     "name": "stdout",
     "output_type": "stream",
     "text": [
      "<class 'pandas.core.frame.DataFrame'>\n",
      "RangeIndex: 140700 entries, 0 to 140699\n",
      "Data columns (total 20 columns):\n",
      " #   Column                                 Non-Null Count   Dtype  \n",
      "---  ------                                 --------------   -----  \n",
      " 0   id                                     140700 non-null  int64  \n",
      " 1   Name                                   140700 non-null  object \n",
      " 2   Gender                                 140700 non-null  object \n",
      " 3   Age                                    140700 non-null  float64\n",
      " 4   City                                   140700 non-null  object \n",
      " 5   Working Professional or Student        140700 non-null  object \n",
      " 6   Profession                             104070 non-null  object \n",
      " 7   Academic Pressure                      27897 non-null   float64\n",
      " 8   Work Pressure                          112782 non-null  float64\n",
      " 9   CGPA                                   27898 non-null   float64\n",
      " 10  Study Satisfaction                     27897 non-null   float64\n",
      " 11  Job Satisfaction                       112790 non-null  float64\n",
      " 12  Sleep Duration                         140700 non-null  object \n",
      " 13  Dietary Habits                         140696 non-null  object \n",
      " 14  Degree                                 140698 non-null  object \n",
      " 15  Have you ever had suicidal thoughts ?  140700 non-null  object \n",
      " 16  Work/Study Hours                       140700 non-null  float64\n",
      " 17  Financial Stress                       140696 non-null  float64\n",
      " 18  Family History of Mental Illness       140700 non-null  object \n",
      " 19  Depression                             140700 non-null  int64  \n",
      "dtypes: float64(8), int64(2), object(10)\n",
      "memory usage: 21.5+ MB\n"
     ]
    }
   ],
   "source": [
    "# Data type information, memory usage, no.of rows of the dataset\n",
    "train.info()"
   ]
  },
  {
   "cell_type": "code",
   "execution_count": 6,
   "id": "89cba911",
   "metadata": {
    "execution": {
     "iopub.execute_input": "2024-11-02T16:00:54.660053Z",
     "iopub.status.busy": "2024-11-02T16:00:54.658948Z",
     "iopub.status.idle": "2024-11-02T16:00:54.770404Z",
     "shell.execute_reply": "2024-11-02T16:00:54.769150Z"
    },
    "papermill": {
     "duration": 0.121058,
     "end_time": "2024-11-02T16:00:54.773167",
     "exception": false,
     "start_time": "2024-11-02T16:00:54.652109",
     "status": "completed"
    },
    "tags": []
   },
   "outputs": [
    {
     "data": {
      "text/html": [
       "<div>\n",
       "<style scoped>\n",
       "    .dataframe tbody tr th:only-of-type {\n",
       "        vertical-align: middle;\n",
       "    }\n",
       "\n",
       "    .dataframe tbody tr th {\n",
       "        vertical-align: top;\n",
       "    }\n",
       "\n",
       "    .dataframe thead th {\n",
       "        text-align: right;\n",
       "    }\n",
       "</style>\n",
       "<table border=\"1\" class=\"dataframe\">\n",
       "  <thead>\n",
       "    <tr style=\"text-align: right;\">\n",
       "      <th></th>\n",
       "      <th>id</th>\n",
       "      <th>Age</th>\n",
       "      <th>Academic Pressure</th>\n",
       "      <th>Work Pressure</th>\n",
       "      <th>CGPA</th>\n",
       "      <th>Study Satisfaction</th>\n",
       "      <th>Job Satisfaction</th>\n",
       "      <th>Work/Study Hours</th>\n",
       "      <th>Financial Stress</th>\n",
       "      <th>Depression</th>\n",
       "    </tr>\n",
       "  </thead>\n",
       "  <tbody>\n",
       "    <tr>\n",
       "      <th>count</th>\n",
       "      <td>140700.000000</td>\n",
       "      <td>140700.000000</td>\n",
       "      <td>27897.000000</td>\n",
       "      <td>112782.000000</td>\n",
       "      <td>27898.000000</td>\n",
       "      <td>27897.000000</td>\n",
       "      <td>112790.000000</td>\n",
       "      <td>140700.000000</td>\n",
       "      <td>140696.000000</td>\n",
       "      <td>140700.000000</td>\n",
       "    </tr>\n",
       "    <tr>\n",
       "      <th>mean</th>\n",
       "      <td>70349.500000</td>\n",
       "      <td>40.388621</td>\n",
       "      <td>3.142273</td>\n",
       "      <td>2.998998</td>\n",
       "      <td>7.658636</td>\n",
       "      <td>2.944940</td>\n",
       "      <td>2.974404</td>\n",
       "      <td>6.252679</td>\n",
       "      <td>2.988983</td>\n",
       "      <td>0.181713</td>\n",
       "    </tr>\n",
       "    <tr>\n",
       "      <th>std</th>\n",
       "      <td>40616.735775</td>\n",
       "      <td>12.384099</td>\n",
       "      <td>1.380457</td>\n",
       "      <td>1.405771</td>\n",
       "      <td>1.464466</td>\n",
       "      <td>1.360197</td>\n",
       "      <td>1.416078</td>\n",
       "      <td>3.853615</td>\n",
       "      <td>1.413633</td>\n",
       "      <td>0.385609</td>\n",
       "    </tr>\n",
       "    <tr>\n",
       "      <th>min</th>\n",
       "      <td>0.000000</td>\n",
       "      <td>18.000000</td>\n",
       "      <td>1.000000</td>\n",
       "      <td>1.000000</td>\n",
       "      <td>5.030000</td>\n",
       "      <td>1.000000</td>\n",
       "      <td>1.000000</td>\n",
       "      <td>0.000000</td>\n",
       "      <td>1.000000</td>\n",
       "      <td>0.000000</td>\n",
       "    </tr>\n",
       "    <tr>\n",
       "      <th>25%</th>\n",
       "      <td>35174.750000</td>\n",
       "      <td>29.000000</td>\n",
       "      <td>2.000000</td>\n",
       "      <td>2.000000</td>\n",
       "      <td>6.290000</td>\n",
       "      <td>2.000000</td>\n",
       "      <td>2.000000</td>\n",
       "      <td>3.000000</td>\n",
       "      <td>2.000000</td>\n",
       "      <td>0.000000</td>\n",
       "    </tr>\n",
       "    <tr>\n",
       "      <th>50%</th>\n",
       "      <td>70349.500000</td>\n",
       "      <td>42.000000</td>\n",
       "      <td>3.000000</td>\n",
       "      <td>3.000000</td>\n",
       "      <td>7.770000</td>\n",
       "      <td>3.000000</td>\n",
       "      <td>3.000000</td>\n",
       "      <td>6.000000</td>\n",
       "      <td>3.000000</td>\n",
       "      <td>0.000000</td>\n",
       "    </tr>\n",
       "    <tr>\n",
       "      <th>75%</th>\n",
       "      <td>105524.250000</td>\n",
       "      <td>51.000000</td>\n",
       "      <td>4.000000</td>\n",
       "      <td>4.000000</td>\n",
       "      <td>8.920000</td>\n",
       "      <td>4.000000</td>\n",
       "      <td>4.000000</td>\n",
       "      <td>10.000000</td>\n",
       "      <td>4.000000</td>\n",
       "      <td>0.000000</td>\n",
       "    </tr>\n",
       "    <tr>\n",
       "      <th>max</th>\n",
       "      <td>140699.000000</td>\n",
       "      <td>60.000000</td>\n",
       "      <td>5.000000</td>\n",
       "      <td>5.000000</td>\n",
       "      <td>10.000000</td>\n",
       "      <td>5.000000</td>\n",
       "      <td>5.000000</td>\n",
       "      <td>12.000000</td>\n",
       "      <td>5.000000</td>\n",
       "      <td>1.000000</td>\n",
       "    </tr>\n",
       "  </tbody>\n",
       "</table>\n",
       "</div>"
      ],
      "text/plain": [
       "                  id            Age  Academic Pressure  Work Pressure  \\\n",
       "count  140700.000000  140700.000000       27897.000000  112782.000000   \n",
       "mean    70349.500000      40.388621           3.142273       2.998998   \n",
       "std     40616.735775      12.384099           1.380457       1.405771   \n",
       "min         0.000000      18.000000           1.000000       1.000000   \n",
       "25%     35174.750000      29.000000           2.000000       2.000000   \n",
       "50%     70349.500000      42.000000           3.000000       3.000000   \n",
       "75%    105524.250000      51.000000           4.000000       4.000000   \n",
       "max    140699.000000      60.000000           5.000000       5.000000   \n",
       "\n",
       "               CGPA  Study Satisfaction  Job Satisfaction  Work/Study Hours  \\\n",
       "count  27898.000000        27897.000000     112790.000000     140700.000000   \n",
       "mean       7.658636            2.944940          2.974404          6.252679   \n",
       "std        1.464466            1.360197          1.416078          3.853615   \n",
       "min        5.030000            1.000000          1.000000          0.000000   \n",
       "25%        6.290000            2.000000          2.000000          3.000000   \n",
       "50%        7.770000            3.000000          3.000000          6.000000   \n",
       "75%        8.920000            4.000000          4.000000         10.000000   \n",
       "max       10.000000            5.000000          5.000000         12.000000   \n",
       "\n",
       "       Financial Stress     Depression  \n",
       "count     140696.000000  140700.000000  \n",
       "mean           2.988983       0.181713  \n",
       "std            1.413633       0.385609  \n",
       "min            1.000000       0.000000  \n",
       "25%            2.000000       0.000000  \n",
       "50%            3.000000       0.000000  \n",
       "75%            4.000000       0.000000  \n",
       "max            5.000000       1.000000  "
      ]
     },
     "execution_count": 6,
     "metadata": {},
     "output_type": "execute_result"
    }
   ],
   "source": [
    "# Statistics of numerical columns in the dataset\n",
    "train.describe(include='number')"
   ]
  },
  {
   "cell_type": "code",
   "execution_count": 7,
   "id": "71a0413f",
   "metadata": {
    "execution": {
     "iopub.execute_input": "2024-11-02T16:00:54.786862Z",
     "iopub.status.busy": "2024-11-02T16:00:54.786060Z",
     "iopub.status.idle": "2024-11-02T16:00:55.225068Z",
     "shell.execute_reply": "2024-11-02T16:00:55.223913Z"
    },
    "papermill": {
     "duration": 0.448795,
     "end_time": "2024-11-02T16:00:55.227772",
     "exception": false,
     "start_time": "2024-11-02T16:00:54.778977",
     "status": "completed"
    },
    "tags": []
   },
   "outputs": [
    {
     "data": {
      "text/html": [
       "<div>\n",
       "<style scoped>\n",
       "    .dataframe tbody tr th:only-of-type {\n",
       "        vertical-align: middle;\n",
       "    }\n",
       "\n",
       "    .dataframe tbody tr th {\n",
       "        vertical-align: top;\n",
       "    }\n",
       "\n",
       "    .dataframe thead th {\n",
       "        text-align: right;\n",
       "    }\n",
       "</style>\n",
       "<table border=\"1\" class=\"dataframe\">\n",
       "  <thead>\n",
       "    <tr style=\"text-align: right;\">\n",
       "      <th></th>\n",
       "      <th>Name</th>\n",
       "      <th>Gender</th>\n",
       "      <th>City</th>\n",
       "      <th>Working Professional or Student</th>\n",
       "      <th>Profession</th>\n",
       "      <th>Sleep Duration</th>\n",
       "      <th>Dietary Habits</th>\n",
       "      <th>Degree</th>\n",
       "      <th>Have you ever had suicidal thoughts ?</th>\n",
       "      <th>Family History of Mental Illness</th>\n",
       "    </tr>\n",
       "  </thead>\n",
       "  <tbody>\n",
       "    <tr>\n",
       "      <th>count</th>\n",
       "      <td>140700</td>\n",
       "      <td>140700</td>\n",
       "      <td>140700</td>\n",
       "      <td>140700</td>\n",
       "      <td>104070</td>\n",
       "      <td>140700</td>\n",
       "      <td>140696</td>\n",
       "      <td>140698</td>\n",
       "      <td>140700</td>\n",
       "      <td>140700</td>\n",
       "    </tr>\n",
       "    <tr>\n",
       "      <th>unique</th>\n",
       "      <td>422</td>\n",
       "      <td>2</td>\n",
       "      <td>98</td>\n",
       "      <td>2</td>\n",
       "      <td>64</td>\n",
       "      <td>36</td>\n",
       "      <td>23</td>\n",
       "      <td>115</td>\n",
       "      <td>2</td>\n",
       "      <td>2</td>\n",
       "    </tr>\n",
       "    <tr>\n",
       "      <th>top</th>\n",
       "      <td>Rohan</td>\n",
       "      <td>Male</td>\n",
       "      <td>Kalyan</td>\n",
       "      <td>Working Professional</td>\n",
       "      <td>Teacher</td>\n",
       "      <td>Less than 5 hours</td>\n",
       "      <td>Moderate</td>\n",
       "      <td>Class 12</td>\n",
       "      <td>No</td>\n",
       "      <td>No</td>\n",
       "    </tr>\n",
       "    <tr>\n",
       "      <th>freq</th>\n",
       "      <td>3178</td>\n",
       "      <td>77464</td>\n",
       "      <td>6591</td>\n",
       "      <td>112799</td>\n",
       "      <td>24906</td>\n",
       "      <td>38784</td>\n",
       "      <td>49705</td>\n",
       "      <td>14729</td>\n",
       "      <td>71138</td>\n",
       "      <td>70758</td>\n",
       "    </tr>\n",
       "  </tbody>\n",
       "</table>\n",
       "</div>"
      ],
      "text/plain": [
       "          Name  Gender    City Working Professional or Student Profession  \\\n",
       "count   140700  140700  140700                          140700     104070   \n",
       "unique     422       2      98                               2         64   \n",
       "top      Rohan    Male  Kalyan            Working Professional    Teacher   \n",
       "freq      3178   77464    6591                          112799      24906   \n",
       "\n",
       "           Sleep Duration Dietary Habits    Degree  \\\n",
       "count              140700         140696    140698   \n",
       "unique                 36             23       115   \n",
       "top     Less than 5 hours       Moderate  Class 12   \n",
       "freq                38784          49705     14729   \n",
       "\n",
       "       Have you ever had suicidal thoughts ? Family History of Mental Illness  \n",
       "count                                 140700                           140700  \n",
       "unique                                     2                                2  \n",
       "top                                       No                               No  \n",
       "freq                                   71138                            70758  "
      ]
     },
     "execution_count": 7,
     "metadata": {},
     "output_type": "execute_result"
    }
   ],
   "source": [
    "# Statistics of categorical columns in the dataset\n",
    "train.describe(include='object')"
   ]
  },
  {
   "cell_type": "markdown",
   "id": "2038729c",
   "metadata": {
    "papermill": {
     "duration": 0.005869,
     "end_time": "2024-11-02T16:00:55.239919",
     "exception": false,
     "start_time": "2024-11-02T16:00:55.234050",
     "status": "completed"
    },
    "tags": []
   },
   "source": [
    "## Analysis of missing values"
   ]
  },
  {
   "cell_type": "code",
   "execution_count": 8,
   "id": "64dbb4f0",
   "metadata": {
    "execution": {
     "iopub.execute_input": "2024-11-02T16:00:55.255521Z",
     "iopub.status.busy": "2024-11-02T16:00:55.254625Z",
     "iopub.status.idle": "2024-11-02T16:00:55.413580Z",
     "shell.execute_reply": "2024-11-02T16:00:55.412319Z"
    },
    "papermill": {
     "duration": 0.170107,
     "end_time": "2024-11-02T16:00:55.416522",
     "exception": false,
     "start_time": "2024-11-02T16:00:55.246415",
     "status": "completed"
    },
    "tags": []
   },
   "outputs": [
    {
     "data": {
      "text/plain": [
       "id                                            0\n",
       "Name                                          0\n",
       "Gender                                        0\n",
       "Age                                           0\n",
       "City                                          0\n",
       "Working Professional or Student               0\n",
       "Profession                                36630\n",
       "Academic Pressure                        112803\n",
       "Work Pressure                             27918\n",
       "CGPA                                     112802\n",
       "Study Satisfaction                       112803\n",
       "Job Satisfaction                          27910\n",
       "Sleep Duration                                0\n",
       "Dietary Habits                                4\n",
       "Degree                                        2\n",
       "Have you ever had suicidal thoughts ?         0\n",
       "Work/Study Hours                              0\n",
       "Financial Stress                              4\n",
       "Family History of Mental Illness              0\n",
       "Depression                                    0\n",
       "dtype: int64"
      ]
     },
     "execution_count": 8,
     "metadata": {},
     "output_type": "execute_result"
    }
   ],
   "source": [
    "# To find the no.of missing entries in each column\n",
    "train.isna().sum()"
   ]
  },
  {
   "cell_type": "code",
   "execution_count": 9,
   "id": "1ee604b4",
   "metadata": {
    "execution": {
     "iopub.execute_input": "2024-11-02T16:00:55.432287Z",
     "iopub.status.busy": "2024-11-02T16:00:55.431840Z",
     "iopub.status.idle": "2024-11-02T16:00:58.901210Z",
     "shell.execute_reply": "2024-11-02T16:00:58.899966Z"
    },
    "papermill": {
     "duration": 3.481426,
     "end_time": "2024-11-02T16:00:58.904365",
     "exception": false,
     "start_time": "2024-11-02T16:00:55.422939",
     "status": "completed"
    },
    "tags": []
   },
   "outputs": [
    {
     "data": {
      "image/png": "[encoded data removed]",
      "text/plain": [
       "<Figure size 640x480 with 1 Axes>"
      ]
     },
     "metadata": {},
     "output_type": "display_data"
    }
   ],
   "source": [
    "# Visualize those missing entries\n",
    "sns.heatmap(train.isnull(), cbar=False, cmap='viridis')\n",
    "plt.title('Missing Value heatmap')\n",
    "plt.show()"
   ]
  },
  {
   "cell_type": "code",
   "execution_count": null,
   "id": "f1bd50aa",
   "metadata": {
    "papermill": {
     "duration": 0.007299,
     "end_time": "2024-11-02T16:00:58.919488",
     "exception": false,
     "start_time": "2024-11-02T16:00:58.912189",
     "status": "completed"
    },
    "tags": []
   },
   "outputs": [],
   "source": []
  }
 ],
 "metadata": {
  "kaggle": {
   "accelerator": "none",
   "dataSources": [
    {
     "databundleVersionId": 10008389,
     "sourceId": 84895,
     "sourceType": "competition"
    }
   ],
   "dockerImageVersionId": 30786,
   "isGpuEnabled": false,
   "isInternetEnabled": true,
   "language": "python",
   "sourceType": "notebook"
  },
  "kernelspec": {
   "display_name": "Python 3",
   "language": "python",
   "name": "python3"
  },
  "language_info": {
   "codemirror_mode": {
    "name": "ipython",
    "version": 3
   },
   "file_extension": ".py",
   "mimetype": "text/x-python",
   "name": "python",
   "nbconvert_exporter": "python",
   "pygments_lexer": "ipython3",
   "version": "3.10.14"
  },
  "papermill": {
   "default_parameters": {},
   "duration": 14.24656,
   "end_time": "2024-11-02T16:00:59.649522",
   "environment_variables": {},
   "exception": null,
   "input_path": "__notebook__.ipynb",
   "output_path": "__notebook__.ipynb",
   "parameters": {},
   "start_time": "2024-11-02T16:00:45.402962",
   "version": "2.6.0"
  }
 },
 "nbformat": 4,
 "nbformat_minor": 5
}
